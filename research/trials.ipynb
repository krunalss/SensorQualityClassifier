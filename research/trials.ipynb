{
 "cells": [
  {
   "cell_type": "code",
   "execution_count": 2,
   "metadata": {},
   "outputs": [],
   "source": [
    "import pandas as pd\n",
    "import requests\n",
    "import os\n"
   ]
  },
  {
   "cell_type": "code",
   "execution_count": 3,
   "metadata": {},
   "outputs": [
    {
     "data": {
      "text/plain": [
       "'d:\\\\Runway\\\\Projects\\\\SensorQualityClassifier\\\\research'"
      ]
     },
     "execution_count": 3,
     "metadata": {},
     "output_type": "execute_result"
    }
   ],
   "source": [
    "%pwd"
   ]
  },
  {
   "cell_type": "code",
   "execution_count": 4,
   "metadata": {},
   "outputs": [],
   "source": [
    "os.chdir(\"../\")"
   ]
  },
  {
   "cell_type": "code",
   "execution_count": 5,
   "metadata": {},
   "outputs": [
    {
     "data": {
      "text/plain": [
       "'d:\\\\Runway\\\\Projects\\\\SensorQualityClassifier'"
      ]
     },
     "execution_count": 5,
     "metadata": {},
     "output_type": "execute_result"
    }
   ],
   "source": [
    "%pwd"
   ]
  },
  {
   "cell_type": "code",
   "execution_count": 6,
   "metadata": {},
   "outputs": [
    {
     "data": {
      "text/html": [
       "<div>\n",
       "<style scoped>\n",
       "    .dataframe tbody tr th:only-of-type {\n",
       "        vertical-align: middle;\n",
       "    }\n",
       "\n",
       "    .dataframe tbody tr th {\n",
       "        vertical-align: top;\n",
       "    }\n",
       "\n",
       "    .dataframe thead th {\n",
       "        text-align: right;\n",
       "    }\n",
       "</style>\n",
       "<table border=\"1\" class=\"dataframe\">\n",
       "  <thead>\n",
       "    <tr style=\"text-align: right;\">\n",
       "      <th></th>\n",
       "      <th>Unnamed: 0</th>\n",
       "      <th>Sensor-1</th>\n",
       "      <th>Sensor-2</th>\n",
       "      <th>Sensor-3</th>\n",
       "      <th>Sensor-4</th>\n",
       "      <th>Sensor-5</th>\n",
       "      <th>Sensor-6</th>\n",
       "      <th>Sensor-7</th>\n",
       "      <th>Sensor-8</th>\n",
       "      <th>Sensor-9</th>\n",
       "      <th>...</th>\n",
       "      <th>Sensor-582</th>\n",
       "      <th>Sensor-583</th>\n",
       "      <th>Sensor-584</th>\n",
       "      <th>Sensor-585</th>\n",
       "      <th>Sensor-586</th>\n",
       "      <th>Sensor-587</th>\n",
       "      <th>Sensor-588</th>\n",
       "      <th>Sensor-589</th>\n",
       "      <th>Sensor-590</th>\n",
       "      <th>Good/Bad</th>\n",
       "    </tr>\n",
       "  </thead>\n",
       "  <tbody>\n",
       "    <tr>\n",
       "      <th>0</th>\n",
       "      <td>Wafer-501</td>\n",
       "      <td>3076.81</td>\n",
       "      <td>2158.75</td>\n",
       "      <td>2208.2334</td>\n",
       "      <td>1517.0152</td>\n",
       "      <td>1.0980</td>\n",
       "      <td>100</td>\n",
       "      <td>110.1900</td>\n",
       "      <td>0.1247</td>\n",
       "      <td>1.4357</td>\n",
       "      <td>...</td>\n",
       "      <td>64.2405</td>\n",
       "      <td>0.5016</td>\n",
       "      <td>0.0152</td>\n",
       "      <td>0.0040</td>\n",
       "      <td>3.0319</td>\n",
       "      <td>0.0465</td>\n",
       "      <td>0.0299</td>\n",
       "      <td>0.0090</td>\n",
       "      <td>64.2405</td>\n",
       "      <td>-1</td>\n",
       "    </tr>\n",
       "    <tr>\n",
       "      <th>1</th>\n",
       "      <td>Wafer-502</td>\n",
       "      <td>2951.62</td>\n",
       "      <td>2511.92</td>\n",
       "      <td>2253.5111</td>\n",
       "      <td>1397.5060</td>\n",
       "      <td>0.9660</td>\n",
       "      <td>100</td>\n",
       "      <td>109.7611</td>\n",
       "      <td>0.1210</td>\n",
       "      <td>1.5527</td>\n",
       "      <td>...</td>\n",
       "      <td>0.0000</td>\n",
       "      <td>0.4953</td>\n",
       "      <td>0.0105</td>\n",
       "      <td>0.0037</td>\n",
       "      <td>2.1266</td>\n",
       "      <td>-0.0012</td>\n",
       "      <td>0.0252</td>\n",
       "      <td>0.0081</td>\n",
       "      <td>0.0000</td>\n",
       "      <td>-1</td>\n",
       "    </tr>\n",
       "    <tr>\n",
       "      <th>2</th>\n",
       "      <td>Wafer-503</td>\n",
       "      <td>2930.42</td>\n",
       "      <td>2505.17</td>\n",
       "      <td>2235.0556</td>\n",
       "      <td>1302.6607</td>\n",
       "      <td>1.6347</td>\n",
       "      <td>100</td>\n",
       "      <td>109.9856</td>\n",
       "      <td>0.1230</td>\n",
       "      <td>1.4588</td>\n",
       "      <td>...</td>\n",
       "      <td>NaN</td>\n",
       "      <td>0.4958</td>\n",
       "      <td>0.0111</td>\n",
       "      <td>0.0033</td>\n",
       "      <td>2.2296</td>\n",
       "      <td>-0.0012</td>\n",
       "      <td>0.0252</td>\n",
       "      <td>0.0081</td>\n",
       "      <td>0.0000</td>\n",
       "      <td>-1</td>\n",
       "    </tr>\n",
       "    <tr>\n",
       "      <th>3</th>\n",
       "      <td>Wafer-504</td>\n",
       "      <td>2997.28</td>\n",
       "      <td>2357.99</td>\n",
       "      <td>2141.0667</td>\n",
       "      <td>1236.5212</td>\n",
       "      <td>0.9698</td>\n",
       "      <td>100</td>\n",
       "      <td>98.3344</td>\n",
       "      <td>0.1238</td>\n",
       "      <td>1.5973</td>\n",
       "      <td>...</td>\n",
       "      <td>NaN</td>\n",
       "      <td>0.4962</td>\n",
       "      <td>0.0086</td>\n",
       "      <td>0.0024</td>\n",
       "      <td>1.7297</td>\n",
       "      <td>-0.0012</td>\n",
       "      <td>0.0252</td>\n",
       "      <td>0.0081</td>\n",
       "      <td>0.0000</td>\n",
       "      <td>-1</td>\n",
       "    </tr>\n",
       "    <tr>\n",
       "      <th>4</th>\n",
       "      <td>Wafer-505</td>\n",
       "      <td>3025.10</td>\n",
       "      <td>2475.18</td>\n",
       "      <td>2235.0556</td>\n",
       "      <td>1302.6607</td>\n",
       "      <td>1.6347</td>\n",
       "      <td>100</td>\n",
       "      <td>109.9856</td>\n",
       "      <td>0.1230</td>\n",
       "      <td>1.5525</td>\n",
       "      <td>...</td>\n",
       "      <td>NaN</td>\n",
       "      <td>0.4983</td>\n",
       "      <td>0.0159</td>\n",
       "      <td>0.0041</td>\n",
       "      <td>3.1927</td>\n",
       "      <td>-0.0012</td>\n",
       "      <td>0.0252</td>\n",
       "      <td>0.0081</td>\n",
       "      <td>0.0000</td>\n",
       "      <td>-1</td>\n",
       "    </tr>\n",
       "  </tbody>\n",
       "</table>\n",
       "<p>5 rows × 592 columns</p>\n",
       "</div>"
      ],
      "text/plain": [
       "  Unnamed: 0  Sensor-1  Sensor-2   Sensor-3   Sensor-4  Sensor-5  Sensor-6  \\\n",
       "0  Wafer-501   3076.81   2158.75  2208.2334  1517.0152    1.0980       100   \n",
       "1  Wafer-502   2951.62   2511.92  2253.5111  1397.5060    0.9660       100   \n",
       "2  Wafer-503   2930.42   2505.17  2235.0556  1302.6607    1.6347       100   \n",
       "3  Wafer-504   2997.28   2357.99  2141.0667  1236.5212    0.9698       100   \n",
       "4  Wafer-505   3025.10   2475.18  2235.0556  1302.6607    1.6347       100   \n",
       "\n",
       "   Sensor-7  Sensor-8  Sensor-9  ...  Sensor-582  Sensor-583  Sensor-584  \\\n",
       "0  110.1900    0.1247    1.4357  ...     64.2405      0.5016      0.0152   \n",
       "1  109.7611    0.1210    1.5527  ...      0.0000      0.4953      0.0105   \n",
       "2  109.9856    0.1230    1.4588  ...         NaN      0.4958      0.0111   \n",
       "3   98.3344    0.1238    1.5973  ...         NaN      0.4962      0.0086   \n",
       "4  109.9856    0.1230    1.5525  ...         NaN      0.4983      0.0159   \n",
       "\n",
       "   Sensor-585  Sensor-586  Sensor-587  Sensor-588  Sensor-589  Sensor-590  \\\n",
       "0      0.0040      3.0319      0.0465      0.0299      0.0090     64.2405   \n",
       "1      0.0037      2.1266     -0.0012      0.0252      0.0081      0.0000   \n",
       "2      0.0033      2.2296     -0.0012      0.0252      0.0081      0.0000   \n",
       "3      0.0024      1.7297     -0.0012      0.0252      0.0081      0.0000   \n",
       "4      0.0041      3.1927     -0.0012      0.0252      0.0081      0.0000   \n",
       "\n",
       "   Good/Bad  \n",
       "0        -1  \n",
       "1        -1  \n",
       "2        -1  \n",
       "3        -1  \n",
       "4        -1  \n",
       "\n",
       "[5 rows x 592 columns]"
      ]
     },
     "execution_count": 6,
     "metadata": {},
     "output_type": "execute_result"
    }
   ],
   "source": [
    "df= pd.read_csv('artifacts/training_data/Good_Data_Folder/wafer_07012020_041011.csv')\n",
    "df.head()\n",
    "\n",
    "\n"
   ]
  },
  {
   "cell_type": "code",
   "execution_count": 7,
   "metadata": {},
   "outputs": [
    {
     "data": {
      "text/plain": [
       "wafer_num      object\n",
       "sensor_1      float64\n",
       "sensor_2      float64\n",
       "sensor_3      float64\n",
       "sensor_4      float64\n",
       "               ...   \n",
       "sensor_587    float64\n",
       "sensor_588    float64\n",
       "sensor_589    float64\n",
       "sensor_590    float64\n",
       "good_bad        int64\n",
       "Length: 592, dtype: object"
      ]
     },
     "execution_count": 7,
     "metadata": {},
     "output_type": "execute_result"
    }
   ],
   "source": [
    "# First, copy the existing column names to a list.\n",
    "new_columns = df.columns.tolist()\n",
    "#print(new_columns)\n",
    "\n",
    "# Then, replace the name of the first column (which might be an empty string or whatever placeholder pandas used).\n",
    "new_columns[0] = 'wafer_num'\n",
    "\n",
    "# Now, assign this list back to the DataFrame's columns attribute.\n",
    "df.columns = new_columns\n",
    "\n",
    "#covest uppercase to lowercase\n",
    "df.columns = [col.lower() for col in df.columns]\n",
    "\n",
    "# Convert all column names: replace '-' with '_' and convert to lowercase\n",
    "df.columns = [col.replace('-', '_').lower() for col in df.columns]\n",
    "\n",
    "# Convert all column names: replace '/' with '_' and convert to lowercase\n",
    "df.columns = [col.replace('/', '_').lower() for col in df.columns]\n",
    "\n",
    "\n",
    "# Now, if you view the first few rows of your DataFrame, the first column will have the name 'new_column_name'.\n",
    "#print(df.head())\n",
    "df.dtypes"
   ]
  },
  {
   "cell_type": "code",
   "execution_count": 29,
   "metadata": {},
   "outputs": [],
   "source": [
    "import hopsworks"
   ]
  },
  {
   "cell_type": "code",
   "execution_count": 30,
   "metadata": {},
   "outputs": [
    {
     "name": "stdout",
     "output_type": "stream",
     "text": [
      "Connection closed.\n",
      "Connected. Call `.close()` to terminate connection gracefully.\n",
      "\n",
      "Logged in to project, explore it here https://c.app.hopsworks.ai:443/p/104599\n",
      "Connected. Call `.close()` to terminate connection gracefully.\n",
      "<hsfs.feature_store.FeatureStore object at 0x000001974D3E7400>\n"
     ]
    }
   ],
   "source": [
    "FS_API_KEY = \"\"\n",
    "FS_PROJECT_NAME = \"krunalss\"\n",
    "#project = hopsworks.login()\n",
    "project = hopsworks.login(\n",
    "        api_key_value=FS_API_KEY, project=FS_PROJECT_NAME\n",
    "    )\n",
    "fs = project.get_feature_store()\n",
    "print(fs)\n"
   ]
  },
  {
   "cell_type": "code",
   "execution_count": 31,
   "metadata": {},
   "outputs": [],
   "source": [
    "wafer_fg = fs.get_or_create_feature_group(\n",
    "    name=\"wafer_project\",\n",
    "    version=1,\n",
    "    description=\"good_training_data\",\n",
    "    primary_key=[\"wafer_num\"],\n",
    "\n",
    ")"
   ]
  },
  {
   "cell_type": "code",
   "execution_count": 32,
   "metadata": {},
   "outputs": [
    {
     "name": "stdout",
     "output_type": "stream",
     "text": [
      "Feature Group created successfully, explore it at \n",
      "https://c.app.hopsworks.ai:443/p/104599/fs/104518/fg/541048\n"
     ]
    },
    {
     "data": {
      "application/vnd.jupyter.widget-view+json": {
       "model_id": "20a3fea0d3c647158fd91d5858f8c9af",
       "version_major": 2,
       "version_minor": 0
      },
      "text/plain": [
       "Uploading Dataframe: 0.00% |          | Rows 0/100 | Elapsed Time: 00:00 | Remaining Time: ?"
      ]
     },
     "metadata": {},
     "output_type": "display_data"
    },
    {
     "name": "stdout",
     "output_type": "stream",
     "text": [
      "Launching job: wafer_project_1_offline_fg_materialization\n",
      "Job started successfully, you can follow the progress at \n",
      "https://c.app.hopsworks.ai/p/104599/jobs/named/wafer_project_1_offline_fg_materialization/executions\n"
     ]
    },
    {
     "data": {
      "text/plain": [
       "(<hsfs.core.job.Job at 0x1974d504340>, None)"
      ]
     },
     "execution_count": 32,
     "metadata": {},
     "output_type": "execute_result"
    }
   ],
   "source": [
    "# Insert data into feature group\n",
    "wafer_fg.insert(df)"
   ]
  },
  {
   "cell_type": "code",
   "execution_count": null,
   "metadata": {},
   "outputs": [],
   "source": [
    "#fg = fs.get_or_create_feature_group(\n",
    " #       name='wafer_project',\n",
    " #       version=1\n",
    "  #      )\n",
    "\n",
    "#delete the feature group\n",
    "#fg.delete()"
   ]
  }
 ],
 "metadata": {
  "kernelspec": {
   "display_name": "sensor",
   "language": "python",
   "name": "python3"
  },
  "language_info": {
   "codemirror_mode": {
    "name": "ipython",
    "version": 3
   },
   "file_extension": ".py",
   "mimetype": "text/x-python",
   "name": "python",
   "nbconvert_exporter": "python",
   "pygments_lexer": "ipython3",
   "version": "3.9.18"
  }
 },
 "nbformat": 4,
 "nbformat_minor": 2
}
